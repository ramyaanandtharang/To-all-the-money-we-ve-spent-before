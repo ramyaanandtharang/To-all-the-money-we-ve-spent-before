{
 "cells": [
  {
   "cell_type": "code",
   "execution_count": 1,
   "metadata": {},
   "outputs": [
    {
     "name": "stderr",
     "output_type": "stream",
     "text": [
      "C:\\Users\\RAMYA\\anaconda3\\lib\\site-packages\\numpy\\_distributor_init.py:32: UserWarning: loaded more than 1 DLL from .libs:\n",
      "C:\\Users\\RAMYA\\anaconda3\\lib\\site-packages\\numpy\\.libs\\libopenblas.PYQHXLVVQ7VESDPUVUADXEVJOBGHJPAY.gfortran-win_amd64.dll\n",
      "C:\\Users\\RAMYA\\anaconda3\\lib\\site-packages\\numpy\\.libs\\libopenblas.WCDJNK7YVMPZQ2ME2ZZHJJRJ3JIKNDB7.gfortran-win_amd64.dll\n",
      "  stacklevel=1)\n"
     ]
    }
   ],
   "source": [
    "import pandas as pd\n",
    "import numpy as np\n",
    "import matplotlib.pyplot as plt\n",
    "import seaborn as sns\n",
    "%matplotlib inline\n",
    "import warnings\n",
    "warnings.filterwarnings('ignore')"
   ]
  },
  {
   "cell_type": "code",
   "execution_count": 40,
   "metadata": {},
   "outputs": [],
   "source": [
    "train=pd.read_csv('train.csv')\n",
    "test=pd.read_csv('test.csv')"
   ]
  },
  {
   "cell_type": "code",
   "execution_count": 41,
   "metadata": {},
   "outputs": [],
   "source": [
    "t=test['Deal_title']"
   ]
  },
  {
   "cell_type": "code",
   "execution_count": 42,
   "metadata": {},
   "outputs": [
    {
     "data": {
      "text/html": [
       "<div>\n",
       "<style scoped>\n",
       "    .dataframe tbody tr th:only-of-type {\n",
       "        vertical-align: middle;\n",
       "    }\n",
       "\n",
       "    .dataframe tbody tr th {\n",
       "        vertical-align: top;\n",
       "    }\n",
       "\n",
       "    .dataframe thead th {\n",
       "        text-align: right;\n",
       "    }\n",
       "</style>\n",
       "<table border=\"1\" class=\"dataframe\">\n",
       "  <thead>\n",
       "    <tr style=\"text-align: right;\">\n",
       "      <th></th>\n",
       "      <th>Deal_title</th>\n",
       "      <th>Lead_name</th>\n",
       "      <th>Industry</th>\n",
       "      <th>Deal_value</th>\n",
       "      <th>Weighted_amount</th>\n",
       "      <th>Date_of_creation</th>\n",
       "      <th>Pitch</th>\n",
       "      <th>Contact_no</th>\n",
       "      <th>Lead_revenue</th>\n",
       "      <th>Fund_category</th>\n",
       "      <th>...</th>\n",
       "      <th>Designation</th>\n",
       "      <th>Lead_POC_email</th>\n",
       "      <th>Hiring_candidate_role</th>\n",
       "      <th>Lead_source</th>\n",
       "      <th>Level_of_meeting</th>\n",
       "      <th>Last_lead_update</th>\n",
       "      <th>Internal_POC</th>\n",
       "      <th>Resource</th>\n",
       "      <th>Internal_rating</th>\n",
       "      <th>Success_probability</th>\n",
       "    </tr>\n",
       "  </thead>\n",
       "  <tbody>\n",
       "    <tr>\n",
       "      <th>0</th>\n",
       "      <td>TitleM5DZY</td>\n",
       "      <td>Davis, Perkins and Bishop Inc</td>\n",
       "      <td>Restaurants</td>\n",
       "      <td>320506$</td>\n",
       "      <td>2067263.7$</td>\n",
       "      <td>2020-03-29</td>\n",
       "      <td>Product_2</td>\n",
       "      <td>607.447.7883</td>\n",
       "      <td>50 - 100 Million</td>\n",
       "      <td>Category 2</td>\n",
       "      <td>...</td>\n",
       "      <td>Executive Vice President</td>\n",
       "      <td>charlenewerner@davis.com</td>\n",
       "      <td>Community pharmacist</td>\n",
       "      <td>Website</td>\n",
       "      <td>Level 3</td>\n",
       "      <td>No track</td>\n",
       "      <td>Davis,Sharrice A</td>\n",
       "      <td>NaN</td>\n",
       "      <td>3</td>\n",
       "      <td>73.6</td>\n",
       "    </tr>\n",
       "    <tr>\n",
       "      <th>1</th>\n",
       "      <td>TitleKIW18</td>\n",
       "      <td>Bender PLC LLC</td>\n",
       "      <td>Construction Services</td>\n",
       "      <td>39488$</td>\n",
       "      <td>240876.8$</td>\n",
       "      <td>2019-07-10</td>\n",
       "      <td>Product_2</td>\n",
       "      <td>892-938-9493</td>\n",
       "      <td>500 Million - 1 Billion</td>\n",
       "      <td>Category 4</td>\n",
       "      <td>...</td>\n",
       "      <td>Chairman/CEO/President</td>\n",
       "      <td>terrylogan@bender.com</td>\n",
       "      <td>Recruitment consultant</td>\n",
       "      <td>Others</td>\n",
       "      <td>Level 1</td>\n",
       "      <td>Did not hear back after Level 1</td>\n",
       "      <td>Brown,Maxine A</td>\n",
       "      <td>No</td>\n",
       "      <td>5</td>\n",
       "      <td>58.9</td>\n",
       "    </tr>\n",
       "    <tr>\n",
       "      <th>2</th>\n",
       "      <td>TitleFXSDN</td>\n",
       "      <td>Carter-Henry and Sons</td>\n",
       "      <td>Hospitals/Clinics</td>\n",
       "      <td>359392$</td>\n",
       "      <td>2407926.4$</td>\n",
       "      <td>2019-07-27</td>\n",
       "      <td>Product_1</td>\n",
       "      <td>538.748.2271</td>\n",
       "      <td>500 Million - 1 Billion</td>\n",
       "      <td>Category 4</td>\n",
       "      <td>...</td>\n",
       "      <td>SVP/General Counsel</td>\n",
       "      <td>arielhamilton@carterhenry.com</td>\n",
       "      <td>Health service manager</td>\n",
       "      <td>Marketing Event</td>\n",
       "      <td>Level 1</td>\n",
       "      <td>?</td>\n",
       "      <td>Georgakopoulos,Vasilios T</td>\n",
       "      <td>No</td>\n",
       "      <td>4</td>\n",
       "      <td>68.8</td>\n",
       "    </tr>\n",
       "    <tr>\n",
       "      <th>3</th>\n",
       "      <td>TitlePSK4Y</td>\n",
       "      <td>Garcia Ltd Ltd</td>\n",
       "      <td>Real Estate</td>\n",
       "      <td>76774$</td>\n",
       "      <td>468321.4$</td>\n",
       "      <td>2021-01-30</td>\n",
       "      <td>Product_2</td>\n",
       "      <td>(692)052-1389x75188</td>\n",
       "      <td>500 Million - 1 Billion</td>\n",
       "      <td>Category 3</td>\n",
       "      <td>...</td>\n",
       "      <td>CEO/Co-Founder/Chairman</td>\n",
       "      <td>erinwilson@garcia.com</td>\n",
       "      <td>Therapist, speech and language</td>\n",
       "      <td>Contact Email</td>\n",
       "      <td>Level 2</td>\n",
       "      <td>Did not hear back after Level 1</td>\n",
       "      <td>Brown,Maxine A</td>\n",
       "      <td>We have all the requirements</td>\n",
       "      <td>1</td>\n",
       "      <td>64.5</td>\n",
       "    </tr>\n",
       "    <tr>\n",
       "      <th>4</th>\n",
       "      <td>Title904GV</td>\n",
       "      <td>Lee and Sons PLC</td>\n",
       "      <td>Financial Services</td>\n",
       "      <td>483896$</td>\n",
       "      <td>NaN</td>\n",
       "      <td>2019-05-22</td>\n",
       "      <td>Product_2</td>\n",
       "      <td>001-878-814-6134x015</td>\n",
       "      <td>50 - 100 Million</td>\n",
       "      <td>Category 3</td>\n",
       "      <td>...</td>\n",
       "      <td>Executive Vice President</td>\n",
       "      <td>mr.christopher@lee.com</td>\n",
       "      <td>Media planner</td>\n",
       "      <td>Website</td>\n",
       "      <td>Level 2</td>\n",
       "      <td>Up-to-date</td>\n",
       "      <td>Thomas,Lori E</td>\n",
       "      <td>No</td>\n",
       "      <td>4</td>\n",
       "      <td>62.4</td>\n",
       "    </tr>\n",
       "  </tbody>\n",
       "</table>\n",
       "<p>5 rows × 23 columns</p>\n",
       "</div>"
      ],
      "text/plain": [
       "   Deal_title                      Lead_name               Industry  \\\n",
       "0  TitleM5DZY  Davis, Perkins and Bishop Inc            Restaurants   \n",
       "1  TitleKIW18                 Bender PLC LLC  Construction Services   \n",
       "2  TitleFXSDN          Carter-Henry and Sons      Hospitals/Clinics   \n",
       "3  TitlePSK4Y                 Garcia Ltd Ltd            Real Estate   \n",
       "4  Title904GV               Lee and Sons PLC     Financial Services   \n",
       "\n",
       "  Deal_value Weighted_amount Date_of_creation      Pitch  \\\n",
       "0    320506$      2067263.7$       2020-03-29  Product_2   \n",
       "1     39488$       240876.8$       2019-07-10  Product_2   \n",
       "2    359392$      2407926.4$       2019-07-27  Product_1   \n",
       "3     76774$       468321.4$       2021-01-30  Product_2   \n",
       "4    483896$             NaN       2019-05-22  Product_2   \n",
       "\n",
       "             Contact_no             Lead_revenue Fund_category  ...  \\\n",
       "0          607.447.7883         50 - 100 Million    Category 2  ...   \n",
       "1          892-938-9493  500 Million - 1 Billion    Category 4  ...   \n",
       "2          538.748.2271  500 Million - 1 Billion    Category 4  ...   \n",
       "3   (692)052-1389x75188  500 Million - 1 Billion    Category 3  ...   \n",
       "4  001-878-814-6134x015         50 - 100 Million    Category 3  ...   \n",
       "\n",
       "                Designation                 Lead_POC_email  \\\n",
       "0  Executive Vice President       charlenewerner@davis.com   \n",
       "1    Chairman/CEO/President          terrylogan@bender.com   \n",
       "2      SVP/General Counsel   arielhamilton@carterhenry.com   \n",
       "3   CEO/Co-Founder/Chairman          erinwilson@garcia.com   \n",
       "4  Executive Vice President         mr.christopher@lee.com   \n",
       "\n",
       "            Hiring_candidate_role      Lead_source Level_of_meeting  \\\n",
       "0            Community pharmacist          Website          Level 3   \n",
       "1          Recruitment consultant           Others          Level 1   \n",
       "2          Health service manager  Marketing Event          Level 1   \n",
       "3  Therapist, speech and language    Contact Email          Level 2   \n",
       "4                   Media planner          Website          Level 2   \n",
       "\n",
       "                  Last_lead_update               Internal_POC  \\\n",
       "0                         No track           Davis,Sharrice A   \n",
       "1  Did not hear back after Level 1             Brown,Maxine A   \n",
       "2                                ?  Georgakopoulos,Vasilios T   \n",
       "3  Did not hear back after Level 1             Brown,Maxine A   \n",
       "4                       Up-to-date              Thomas,Lori E   \n",
       "\n",
       "                       Resource Internal_rating Success_probability  \n",
       "0                           NaN               3                73.6  \n",
       "1                            No               5                58.9  \n",
       "2                            No               4                68.8  \n",
       "3  We have all the requirements               1                64.5  \n",
       "4                            No               4                62.4  \n",
       "\n",
       "[5 rows x 23 columns]"
      ]
     },
     "execution_count": 42,
     "metadata": {},
     "output_type": "execute_result"
    }
   ],
   "source": [
    "train.head()"
   ]
  },
  {
   "cell_type": "code",
   "execution_count": 43,
   "metadata": {},
   "outputs": [
    {
     "data": {
      "text/plain": [
       "2 days back                             204\n",
       "?                                       190\n",
       "More than 2 weeks                       186\n",
       "5 days back                             186\n",
       "more than a month                       180\n",
       "Up-to-date                              176\n",
       "Did not hear back after Level 1         173\n",
       "No track                                165\n",
       "Pending                                 156\n",
       "Following up but lead not responding    155\n",
       "More than a week back                   154\n",
       "Name: Last_lead_update, dtype: int64"
      ]
     },
     "execution_count": 43,
     "metadata": {},
     "output_type": "execute_result"
    }
   ],
   "source": [
    "test.Last_lead_update.value_counts()"
   ]
  },
  {
   "cell_type": "code",
   "execution_count": 44,
   "metadata": {},
   "outputs": [],
   "source": [
    "#train['Last_lead_update'] = np.where(train['Last_lead_update'] == '?', 'NaN', train['Last_lead_update'])"
   ]
  },
  {
   "cell_type": "code",
   "execution_count": 45,
   "metadata": {},
   "outputs": [],
   "source": [
    "#test['Last_lead_update'] = np.where(test['Last_lead_update'] == '?', 'NaN', test['Last_lead_update'])"
   ]
  },
  {
   "cell_type": "code",
   "execution_count": 46,
   "metadata": {},
   "outputs": [
    {
     "data": {
      "text/html": [
       "<div>\n",
       "<style scoped>\n",
       "    .dataframe tbody tr th:only-of-type {\n",
       "        vertical-align: middle;\n",
       "    }\n",
       "\n",
       "    .dataframe tbody tr th {\n",
       "        vertical-align: top;\n",
       "    }\n",
       "\n",
       "    .dataframe thead th {\n",
       "        text-align: right;\n",
       "    }\n",
       "</style>\n",
       "<table border=\"1\" class=\"dataframe\">\n",
       "  <thead>\n",
       "    <tr style=\"text-align: right;\">\n",
       "      <th></th>\n",
       "      <th>Deal_title</th>\n",
       "      <th>Lead_name</th>\n",
       "      <th>Industry</th>\n",
       "      <th>Deal_value</th>\n",
       "      <th>Weighted_amount</th>\n",
       "      <th>Date_of_creation</th>\n",
       "      <th>Pitch</th>\n",
       "      <th>Contact_no</th>\n",
       "      <th>Lead_revenue</th>\n",
       "      <th>Fund_category</th>\n",
       "      <th>...</th>\n",
       "      <th>POC_name</th>\n",
       "      <th>Designation</th>\n",
       "      <th>Lead_POC_email</th>\n",
       "      <th>Hiring_candidate_role</th>\n",
       "      <th>Lead_source</th>\n",
       "      <th>Level_of_meeting</th>\n",
       "      <th>Last_lead_update</th>\n",
       "      <th>Internal_POC</th>\n",
       "      <th>Resource</th>\n",
       "      <th>Internal_rating</th>\n",
       "    </tr>\n",
       "  </thead>\n",
       "  <tbody>\n",
       "    <tr>\n",
       "      <th>0</th>\n",
       "      <td>TitleAD16O</td>\n",
       "      <td>Bonilla Ltd Inc</td>\n",
       "      <td>Investment Bank/Brokerage</td>\n",
       "      <td>200988$</td>\n",
       "      <td>NaN</td>\n",
       "      <td>2020-04-15</td>\n",
       "      <td>Product_1</td>\n",
       "      <td>167.332.2751x989</td>\n",
       "      <td>100 - 500 Million</td>\n",
       "      <td>Category 4</td>\n",
       "      <td>...</td>\n",
       "      <td>sonia</td>\n",
       "      <td>Chairman/CEO/President</td>\n",
       "      <td>maureenthomas@bonilla.com</td>\n",
       "      <td>Designer, fashion/clothing</td>\n",
       "      <td>Marketing Event</td>\n",
       "      <td>Level 1</td>\n",
       "      <td>more than a month</td>\n",
       "      <td>Massiah,Gerard F</td>\n",
       "      <td>No</td>\n",
       "      <td>-1.0</td>\n",
       "    </tr>\n",
       "    <tr>\n",
       "      <th>1</th>\n",
       "      <td>TitleOW6CR</td>\n",
       "      <td>Williams, Rogers and Roach PLC</td>\n",
       "      <td>Electronics</td>\n",
       "      <td>409961$</td>\n",
       "      <td>2541758.2$</td>\n",
       "      <td>2021-01-23</td>\n",
       "      <td>Product_1</td>\n",
       "      <td>001-486-903-0711x7831</td>\n",
       "      <td>100 - 500 Million</td>\n",
       "      <td>Category 3</td>\n",
       "      <td>...</td>\n",
       "      <td>Daniel Bell</td>\n",
       "      <td>CEO/Co-Founder/Chairman</td>\n",
       "      <td>danielbell@williams.com</td>\n",
       "      <td>Horticultural consultant</td>\n",
       "      <td>Marketing Event</td>\n",
       "      <td>Level 2</td>\n",
       "      <td>Up-to-date</td>\n",
       "      <td>Smith,Keenan H</td>\n",
       "      <td>Yes</td>\n",
       "      <td>1.0</td>\n",
       "    </tr>\n",
       "    <tr>\n",
       "      <th>2</th>\n",
       "      <td>TitleVVJQ5</td>\n",
       "      <td>Wood, Vaughn and Morales Ltd</td>\n",
       "      <td>Banks</td>\n",
       "      <td>434433$</td>\n",
       "      <td>3041031.0$</td>\n",
       "      <td>2020-07-19</td>\n",
       "      <td>Product_1</td>\n",
       "      <td>(393)104-2610x9723</td>\n",
       "      <td>100 - 500 Million</td>\n",
       "      <td>Category 1</td>\n",
       "      <td>...</td>\n",
       "      <td>Andrew Davis</td>\n",
       "      <td>Chairman/Chief Innovation Officer</td>\n",
       "      <td>andrewdavis@wood.com</td>\n",
       "      <td>Information officer</td>\n",
       "      <td>Marketing Event</td>\n",
       "      <td>Level 2</td>\n",
       "      <td>Did not hear back after Level 1</td>\n",
       "      <td>Gilley,Janine</td>\n",
       "      <td>Deliverable</td>\n",
       "      <td>5.0</td>\n",
       "    </tr>\n",
       "    <tr>\n",
       "      <th>3</th>\n",
       "      <td>TitleUS8NA</td>\n",
       "      <td>Durham-Crawford Inc</td>\n",
       "      <td>Music</td>\n",
       "      <td>218952$</td>\n",
       "      <td>1521716.4$</td>\n",
       "      <td>2020-02-27</td>\n",
       "      <td>Product_2</td>\n",
       "      <td>(817)040-4599</td>\n",
       "      <td>100 - 500 Million</td>\n",
       "      <td>Category 1</td>\n",
       "      <td>...</td>\n",
       "      <td>shital</td>\n",
       "      <td>CEO/Chairman/President</td>\n",
       "      <td>charlesrivera@durhamcrawford.com</td>\n",
       "      <td>Commercial/residential surveyor</td>\n",
       "      <td>Contact Email</td>\n",
       "      <td>Level 3</td>\n",
       "      <td>more than a month</td>\n",
       "      <td>Morsy,Omar A</td>\n",
       "      <td>No</td>\n",
       "      <td>5.0</td>\n",
       "    </tr>\n",
       "    <tr>\n",
       "      <th>4</th>\n",
       "      <td>Title5VGWW</td>\n",
       "      <td>Simpson, Duncan and Long LLC</td>\n",
       "      <td>Real Estate</td>\n",
       "      <td>392835$</td>\n",
       "      <td>2455218.75$</td>\n",
       "      <td>2020-10-25</td>\n",
       "      <td>Product_1</td>\n",
       "      <td>718-032-5726x76098</td>\n",
       "      <td>500 Million - 1 Billion</td>\n",
       "      <td>Category 3</td>\n",
       "      <td>...</td>\n",
       "      <td>Shelly Stephenson</td>\n",
       "      <td>CEO/Co-Founder/Chairman</td>\n",
       "      <td>shellystephenson@simpson.com</td>\n",
       "      <td>Wellsite geologist</td>\n",
       "      <td>Others</td>\n",
       "      <td>Level 3</td>\n",
       "      <td>More than 2 weeks</td>\n",
       "      <td>Morsy,Omar A</td>\n",
       "      <td>Deliverable</td>\n",
       "      <td>2.0</td>\n",
       "    </tr>\n",
       "  </tbody>\n",
       "</table>\n",
       "<p>5 rows × 22 columns</p>\n",
       "</div>"
      ],
      "text/plain": [
       "   Deal_title                       Lead_name                   Industry  \\\n",
       "0  TitleAD16O                 Bonilla Ltd Inc  Investment Bank/Brokerage   \n",
       "1  TitleOW6CR  Williams, Rogers and Roach PLC                Electronics   \n",
       "2  TitleVVJQ5    Wood, Vaughn and Morales Ltd                      Banks   \n",
       "3  TitleUS8NA             Durham-Crawford Inc                      Music   \n",
       "4  Title5VGWW    Simpson, Duncan and Long LLC                Real Estate   \n",
       "\n",
       "  Deal_value Weighted_amount Date_of_creation      Pitch  \\\n",
       "0    200988$             NaN       2020-04-15  Product_1   \n",
       "1    409961$      2541758.2$       2021-01-23  Product_1   \n",
       "2    434433$      3041031.0$       2020-07-19  Product_1   \n",
       "3    218952$      1521716.4$       2020-02-27  Product_2   \n",
       "4    392835$     2455218.75$       2020-10-25  Product_1   \n",
       "\n",
       "              Contact_no             Lead_revenue Fund_category  ...  \\\n",
       "0       167.332.2751x989        100 - 500 Million    Category 4  ...   \n",
       "1  001-486-903-0711x7831        100 - 500 Million    Category 3  ...   \n",
       "2     (393)104-2610x9723        100 - 500 Million    Category 1  ...   \n",
       "3          (817)040-4599        100 - 500 Million    Category 1  ...   \n",
       "4     718-032-5726x76098  500 Million - 1 Billion    Category 3  ...   \n",
       "\n",
       "            POC_name                        Designation  \\\n",
       "0              sonia             Chairman/CEO/President   \n",
       "1        Daniel Bell            CEO/Co-Founder/Chairman   \n",
       "2       Andrew Davis  Chairman/Chief Innovation Officer   \n",
       "3             shital             CEO/Chairman/President   \n",
       "4  Shelly Stephenson            CEO/Co-Founder/Chairman   \n",
       "\n",
       "                     Lead_POC_email            Hiring_candidate_role  \\\n",
       "0         maureenthomas@bonilla.com       Designer, fashion/clothing   \n",
       "1           danielbell@williams.com         Horticultural consultant   \n",
       "2              andrewdavis@wood.com              Information officer   \n",
       "3  charlesrivera@durhamcrawford.com  Commercial/residential surveyor   \n",
       "4      shellystephenson@simpson.com               Wellsite geologist   \n",
       "\n",
       "       Lead_source Level_of_meeting                 Last_lead_update  \\\n",
       "0  Marketing Event          Level 1                more than a month   \n",
       "1  Marketing Event          Level 2                       Up-to-date   \n",
       "2  Marketing Event          Level 2  Did not hear back after Level 1   \n",
       "3    Contact Email          Level 3                more than a month   \n",
       "4           Others          Level 3                More than 2 weeks   \n",
       "\n",
       "       Internal_POC     Resource Internal_rating  \n",
       "0  Massiah,Gerard F           No            -1.0  \n",
       "1    Smith,Keenan H          Yes             1.0  \n",
       "2     Gilley,Janine  Deliverable             5.0  \n",
       "3      Morsy,Omar A           No             5.0  \n",
       "4      Morsy,Omar A  Deliverable             2.0  \n",
       "\n",
       "[5 rows x 22 columns]"
      ]
     },
     "execution_count": 46,
     "metadata": {},
     "output_type": "execute_result"
    }
   ],
   "source": [
    "test.head()"
   ]
  },
  {
   "cell_type": "code",
   "execution_count": 47,
   "metadata": {},
   "outputs": [
    {
     "data": {
      "text/plain": [
       "Index(['Deal_title', 'Lead_name', 'Industry', 'Deal_value', 'Weighted_amount',\n",
       "       'Date_of_creation', 'Pitch', 'Contact_no', 'Lead_revenue',\n",
       "       'Fund_category', 'Geography', 'Location', 'POC_name', 'Designation',\n",
       "       'Lead_POC_email', 'Hiring_candidate_role', 'Lead_source',\n",
       "       'Level_of_meeting', 'Last_lead_update', 'Internal_POC', 'Resource',\n",
       "       'Internal_rating', 'Success_probability'],\n",
       "      dtype='object')"
      ]
     },
     "execution_count": 47,
     "metadata": {},
     "output_type": "execute_result"
    }
   ],
   "source": [
    "train.columns"
   ]
  },
  {
   "cell_type": "code",
   "execution_count": 48,
   "metadata": {},
   "outputs": [
    {
     "name": "stdout",
     "output_type": "stream",
     "text": [
      "<class 'pandas.core.frame.DataFrame'>\n",
      "RangeIndex: 7007 entries, 0 to 7006\n",
      "Data columns (total 23 columns):\n",
      " #   Column                 Non-Null Count  Dtype  \n",
      "---  ------                 --------------  -----  \n",
      " 0   Deal_title             7007 non-null   object \n",
      " 1   Lead_name              7007 non-null   object \n",
      " 2   Industry               7006 non-null   object \n",
      " 3   Deal_value             6956 non-null   object \n",
      " 4   Weighted_amount        6482 non-null   object \n",
      " 5   Date_of_creation       7007 non-null   object \n",
      " 6   Pitch                  7007 non-null   object \n",
      " 7   Contact_no             7007 non-null   object \n",
      " 8   Lead_revenue           7007 non-null   object \n",
      " 9   Fund_category          7007 non-null   object \n",
      " 10  Geography              6035 non-null   object \n",
      " 11  Location               6996 non-null   object \n",
      " 12  POC_name               6999 non-null   object \n",
      " 13  Designation            7007 non-null   object \n",
      " 14  Lead_POC_email         7007 non-null   object \n",
      " 15  Hiring_candidate_role  7007 non-null   object \n",
      " 16  Lead_source            7007 non-null   object \n",
      " 17  Level_of_meeting       7007 non-null   object \n",
      " 18  Last_lead_update       6374 non-null   object \n",
      " 19  Internal_POC           7007 non-null   object \n",
      " 20  Resource               6858 non-null   object \n",
      " 21  Internal_rating        7007 non-null   int64  \n",
      " 22  Success_probability    7007 non-null   float64\n",
      "dtypes: float64(1), int64(1), object(21)\n",
      "memory usage: 1.2+ MB\n"
     ]
    }
   ],
   "source": [
    "train.info()"
   ]
  },
  {
   "cell_type": "code",
   "execution_count": 49,
   "metadata": {},
   "outputs": [
    {
     "data": {
      "text/plain": [
       "5    1430\n",
       "2    1405\n",
       "4    1400\n",
       "1    1394\n",
       "3    1378\n",
       "Name: Internal_rating, dtype: int64"
      ]
     },
     "execution_count": 49,
     "metadata": {},
     "output_type": "execute_result"
    }
   ],
   "source": [
    "train.Internal_rating.value_counts()"
   ]
  },
  {
   "cell_type": "code",
   "execution_count": 50,
   "metadata": {},
   "outputs": [
    {
     "data": {
      "text/plain": [
       "((7007, 23), (2093, 22))"
      ]
     },
     "execution_count": 50,
     "metadata": {},
     "output_type": "execute_result"
    }
   ],
   "source": [
    "train.shape, test.shape"
   ]
  },
  {
   "cell_type": "code",
   "execution_count": 10,
   "metadata": {},
   "outputs": [
    {
     "data": {
      "text/plain": [
       "(array([3., 2., 2., 2., 2., 3., 2., 2., 2., 3.]),\n",
       " array([ 0. ,  2.2,  4.4,  6.6,  8.8, 11. , 13.2, 15.4, 17.6, 19.8, 22. ]),\n",
       " <BarContainer object of 10 artists>)"
      ]
     },
     "execution_count": 10,
     "metadata": {},
     "output_type": "execute_result"
    },
    {
     "data": {
      "image/png": "[encoded data removed]",
      "text/plain": [
       "<Figure size 432x288 with 1 Axes>"
      ]
     },
     "metadata": {
      "needs_background": "light"
     },
     "output_type": "display_data"
    }
   ],
   "source": [
    "plt.hist(train)"
   ]
  },
  {
   "cell_type": "code",
   "execution_count": 133,
   "metadata": {},
   "outputs": [],
   "source": [
    "import scipy.stats as stat\n",
    "import pylab\n",
    "#### If you want to check whether feature is guassian or normal distributed\n",
    "#### Q-Q plot\n",
    "def plot_data(df,feature):\n",
    "    plt.figure(figsize=(10,6))\n",
    "    plt.subplot(1,2,1)\n",
    "    df[feature].hist()\n",
    "    plt.subplot(1,2,2)\n",
    "    stat.probplot(df[feature],dist='norm',plot=pylab)\n",
    "    plt.show()"
   ]
  },
  {
   "cell_type": "code",
   "execution_count": 134,
   "metadata": {
    "scrolled": true
   },
   "outputs": [
    {
     "data": {
      "image/png": "[encoded data removed]",
      "text/plain": [
       "<Figure size 720x432 with 2 Axes>"
      ]
     },
     "metadata": {
      "needs_background": "light"
     },
     "output_type": "display_data"
    }
   ],
   "source": [
    "plot_data(train,'Success_probability')"
   ]
  },
  {
   "cell_type": "code",
   "execution_count": 135,
   "metadata": {},
   "outputs": [
    {
     "data": {
      "image/png": "[encoded data removed]",
      "text/plain": [
       "<Figure size 720x432 with 2 Axes>"
      ]
     },
     "metadata": {
      "needs_background": "light"
     },
     "output_type": "display_data"
    }
   ],
   "source": [
    "train['l']=np.log(train['Success_probability'])\n",
    "plot_data(train,'l')\n"
   ]
  },
  {
   "cell_type": "code",
   "execution_count": 136,
   "metadata": {},
   "outputs": [
    {
     "data": {
      "image/png": "[encoded data removed]",
      "text/plain": [
       "<Figure size 720x432 with 2 Axes>"
      ]
     },
     "metadata": {
      "needs_background": "light"
     },
     "output_type": "display_data"
    }
   ],
   "source": [
    "train['reciprocal']=1/train.Success_probability\n",
    "plot_data(train,'reciprocal')"
   ]
  },
  {
   "cell_type": "code",
   "execution_count": 137,
   "metadata": {},
   "outputs": [
    {
     "data": {
      "image/png": "[encoded data removed]",
      "text/plain": [
       "<Figure size 720x432 with 2 Axes>"
      ]
     },
     "metadata": {
      "needs_background": "light"
     },
     "output_type": "display_data"
    }
   ],
   "source": [
    "##### Square Root Transformation\n",
    "train['sqaure']=train.Success_probability**(1/2)\n",
    "plot_data(train,'sqaure')"
   ]
  },
  {
   "cell_type": "code",
   "execution_count": 138,
   "metadata": {},
   "outputs": [
    {
     "data": {
      "image/png": "[encoded data removed]",
      "text/plain": [
       "<Figure size 720x432 with 2 Axes>"
      ]
     },
     "metadata": {
      "needs_background": "light"
     },
     "output_type": "display_data"
    }
   ],
   "source": [
    "#### Exponential Transdormation\n",
    "train['exponential']=train.Success_probability**(1/1.2)\n",
    "plot_data(train,'exponential')"
   ]
  },
  {
   "cell_type": "code",
   "execution_count": 14,
   "metadata": {},
   "outputs": [],
   "source": [
    "#train['Success_probability'] = np.where(train['Success_probability'] < 0, 'NaN', train['Success_probability']).astype(float)"
   ]
  },
  {
   "cell_type": "code",
   "execution_count": 15,
   "metadata": {},
   "outputs": [
    {
     "data": {
      "text/plain": [
       "0        73.60\n",
       "1        58.90\n",
       "2        68.80\n",
       "3        64.50\n",
       "4        62.40\n",
       "         ...  \n",
       "7002    107.34\n",
       "7003     26.35\n",
       "7004     70.60\n",
       "7005       NaN\n",
       "7006     68.70\n",
       "Name: Success_probability, Length: 7007, dtype: float64"
      ]
     },
     "execution_count": 15,
     "metadata": {},
     "output_type": "execute_result"
    }
   ],
   "source": [
    "#train['Success_probability']"
   ]
  },
  {
   "cell_type": "code",
   "execution_count": 16,
   "metadata": {},
   "outputs": [],
   "source": [
    "#train['Success_probability']=train['Success_probability'].fillna(train['Success_probability'].mean())"
   ]
  },
  {
   "cell_type": "code",
   "execution_count": 142,
   "metadata": {},
   "outputs": [],
   "source": [
    "train['Boxcox'],parameters=stat.boxcox(train['Success_probability'])"
   ]
  },
  {
   "cell_type": "code",
   "execution_count": 144,
   "metadata": {},
   "outputs": [
    {
     "name": "stdout",
     "output_type": "stream",
     "text": [
      "1.1149117503240311\n"
     ]
    }
   ],
   "source": [
    "print(parameters)"
   ]
  },
  {
   "cell_type": "code",
   "execution_count": 147,
   "metadata": {},
   "outputs": [
    {
     "data": {
      "image/png": "[encoded data removed]",
      "text/plain": [
       "<Figure size 720x432 with 2 Axes>"
      ]
     },
     "metadata": {
      "needs_background": "light"
     },
     "output_type": "display_data"
    }
   ],
   "source": [
    "plot_data(train,'Boxcox')"
   ]
  },
  {
   "cell_type": "code",
   "execution_count": 51,
   "metadata": {},
   "outputs": [],
   "source": [
    "y=train['Success_probability']\n",
    "train.drop('Success_probability',axis=1,inplace=True)"
   ]
  },
  {
   "cell_type": "code",
   "execution_count": 52,
   "metadata": {},
   "outputs": [],
   "source": [
    "df=pd.concat([train,test])"
   ]
  },
  {
   "cell_type": "code",
   "execution_count": 53,
   "metadata": {},
   "outputs": [
    {
     "data": {
      "text/html": [
       "<div>\n",
       "<style scoped>\n",
       "    .dataframe tbody tr th:only-of-type {\n",
       "        vertical-align: middle;\n",
       "    }\n",
       "\n",
       "    .dataframe tbody tr th {\n",
       "        vertical-align: top;\n",
       "    }\n",
       "\n",
       "    .dataframe thead th {\n",
       "        text-align: right;\n",
       "    }\n",
       "</style>\n",
       "<table border=\"1\" class=\"dataframe\">\n",
       "  <thead>\n",
       "    <tr style=\"text-align: right;\">\n",
       "      <th></th>\n",
       "      <th>Deal_title</th>\n",
       "      <th>Lead_name</th>\n",
       "      <th>Industry</th>\n",
       "      <th>Deal_value</th>\n",
       "      <th>Weighted_amount</th>\n",
       "      <th>Date_of_creation</th>\n",
       "      <th>Pitch</th>\n",
       "      <th>Contact_no</th>\n",
       "      <th>Lead_revenue</th>\n",
       "      <th>Fund_category</th>\n",
       "      <th>...</th>\n",
       "      <th>POC_name</th>\n",
       "      <th>Designation</th>\n",
       "      <th>Lead_POC_email</th>\n",
       "      <th>Hiring_candidate_role</th>\n",
       "      <th>Lead_source</th>\n",
       "      <th>Level_of_meeting</th>\n",
       "      <th>Last_lead_update</th>\n",
       "      <th>Internal_POC</th>\n",
       "      <th>Resource</th>\n",
       "      <th>Internal_rating</th>\n",
       "    </tr>\n",
       "  </thead>\n",
       "  <tbody>\n",
       "    <tr>\n",
       "      <th>0</th>\n",
       "      <td>TitleM5DZY</td>\n",
       "      <td>Davis, Perkins and Bishop Inc</td>\n",
       "      <td>Restaurants</td>\n",
       "      <td>320506$</td>\n",
       "      <td>2067263.7$</td>\n",
       "      <td>2020-03-29</td>\n",
       "      <td>Product_2</td>\n",
       "      <td>607.447.7883</td>\n",
       "      <td>50 - 100 Million</td>\n",
       "      <td>Category 2</td>\n",
       "      <td>...</td>\n",
       "      <td>Charlene Werner</td>\n",
       "      <td>Executive Vice President</td>\n",
       "      <td>charlenewerner@davis.com</td>\n",
       "      <td>Community pharmacist</td>\n",
       "      <td>Website</td>\n",
       "      <td>Level 3</td>\n",
       "      <td>No track</td>\n",
       "      <td>Davis,Sharrice A</td>\n",
       "      <td>NaN</td>\n",
       "      <td>3.0</td>\n",
       "    </tr>\n",
       "    <tr>\n",
       "      <th>1</th>\n",
       "      <td>TitleKIW18</td>\n",
       "      <td>Bender PLC LLC</td>\n",
       "      <td>Construction Services</td>\n",
       "      <td>39488$</td>\n",
       "      <td>240876.8$</td>\n",
       "      <td>2019-07-10</td>\n",
       "      <td>Product_2</td>\n",
       "      <td>892-938-9493</td>\n",
       "      <td>500 Million - 1 Billion</td>\n",
       "      <td>Category 4</td>\n",
       "      <td>...</td>\n",
       "      <td>rakhi</td>\n",
       "      <td>Chairman/CEO/President</td>\n",
       "      <td>terrylogan@bender.com</td>\n",
       "      <td>Recruitment consultant</td>\n",
       "      <td>Others</td>\n",
       "      <td>Level 1</td>\n",
       "      <td>Did not hear back after Level 1</td>\n",
       "      <td>Brown,Maxine A</td>\n",
       "      <td>No</td>\n",
       "      <td>5.0</td>\n",
       "    </tr>\n",
       "    <tr>\n",
       "      <th>2</th>\n",
       "      <td>TitleFXSDN</td>\n",
       "      <td>Carter-Henry and Sons</td>\n",
       "      <td>Hospitals/Clinics</td>\n",
       "      <td>359392$</td>\n",
       "      <td>2407926.4$</td>\n",
       "      <td>2019-07-27</td>\n",
       "      <td>Product_1</td>\n",
       "      <td>538.748.2271</td>\n",
       "      <td>500 Million - 1 Billion</td>\n",
       "      <td>Category 4</td>\n",
       "      <td>...</td>\n",
       "      <td>Ariel Hamilton</td>\n",
       "      <td>SVP/General Counsel</td>\n",
       "      <td>arielhamilton@carterhenry.com</td>\n",
       "      <td>Health service manager</td>\n",
       "      <td>Marketing Event</td>\n",
       "      <td>Level 1</td>\n",
       "      <td>?</td>\n",
       "      <td>Georgakopoulos,Vasilios T</td>\n",
       "      <td>No</td>\n",
       "      <td>4.0</td>\n",
       "    </tr>\n",
       "    <tr>\n",
       "      <th>3</th>\n",
       "      <td>TitlePSK4Y</td>\n",
       "      <td>Garcia Ltd Ltd</td>\n",
       "      <td>Real Estate</td>\n",
       "      <td>76774$</td>\n",
       "      <td>468321.4$</td>\n",
       "      <td>2021-01-30</td>\n",
       "      <td>Product_2</td>\n",
       "      <td>(692)052-1389x75188</td>\n",
       "      <td>500 Million - 1 Billion</td>\n",
       "      <td>Category 3</td>\n",
       "      <td>...</td>\n",
       "      <td>Erin Wilson</td>\n",
       "      <td>CEO/Co-Founder/Chairman</td>\n",
       "      <td>erinwilson@garcia.com</td>\n",
       "      <td>Therapist, speech and language</td>\n",
       "      <td>Contact Email</td>\n",
       "      <td>Level 2</td>\n",
       "      <td>Did not hear back after Level 1</td>\n",
       "      <td>Brown,Maxine A</td>\n",
       "      <td>We have all the requirements</td>\n",
       "      <td>1.0</td>\n",
       "    </tr>\n",
       "    <tr>\n",
       "      <th>4</th>\n",
       "      <td>Title904GV</td>\n",
       "      <td>Lee and Sons PLC</td>\n",
       "      <td>Financial Services</td>\n",
       "      <td>483896$</td>\n",
       "      <td>NaN</td>\n",
       "      <td>2019-05-22</td>\n",
       "      <td>Product_2</td>\n",
       "      <td>001-878-814-6134x015</td>\n",
       "      <td>50 - 100 Million</td>\n",
       "      <td>Category 3</td>\n",
       "      <td>...</td>\n",
       "      <td>kavita</td>\n",
       "      <td>Executive Vice President</td>\n",
       "      <td>mr.christopher@lee.com</td>\n",
       "      <td>Media planner</td>\n",
       "      <td>Website</td>\n",
       "      <td>Level 2</td>\n",
       "      <td>Up-to-date</td>\n",
       "      <td>Thomas,Lori E</td>\n",
       "      <td>No</td>\n",
       "      <td>4.0</td>\n",
       "    </tr>\n",
       "  </tbody>\n",
       "</table>\n",
       "<p>5 rows × 22 columns</p>\n",
       "</div>"
      ],
      "text/plain": [
       "   Deal_title                      Lead_name               Industry  \\\n",
       "0  TitleM5DZY  Davis, Perkins and Bishop Inc            Restaurants   \n",
       "1  TitleKIW18                 Bender PLC LLC  Construction Services   \n",
       "2  TitleFXSDN          Carter-Henry and Sons      Hospitals/Clinics   \n",
       "3  TitlePSK4Y                 Garcia Ltd Ltd            Real Estate   \n",
       "4  Title904GV               Lee and Sons PLC     Financial Services   \n",
       "\n",
       "  Deal_value Weighted_amount Date_of_creation      Pitch  \\\n",
       "0    320506$      2067263.7$       2020-03-29  Product_2   \n",
       "1     39488$       240876.8$       2019-07-10  Product_2   \n",
       "2    359392$      2407926.4$       2019-07-27  Product_1   \n",
       "3     76774$       468321.4$       2021-01-30  Product_2   \n",
       "4    483896$             NaN       2019-05-22  Product_2   \n",
       "\n",
       "             Contact_no             Lead_revenue Fund_category  ...  \\\n",
       "0          607.447.7883         50 - 100 Million    Category 2  ...   \n",
       "1          892-938-9493  500 Million - 1 Billion    Category 4  ...   \n",
       "2          538.748.2271  500 Million - 1 Billion    Category 4  ...   \n",
       "3   (692)052-1389x75188  500 Million - 1 Billion    Category 3  ...   \n",
       "4  001-878-814-6134x015         50 - 100 Million    Category 3  ...   \n",
       "\n",
       "          POC_name               Designation                 Lead_POC_email  \\\n",
       "0  Charlene Werner  Executive Vice President       charlenewerner@davis.com   \n",
       "1            rakhi    Chairman/CEO/President          terrylogan@bender.com   \n",
       "2   Ariel Hamilton      SVP/General Counsel   arielhamilton@carterhenry.com   \n",
       "3      Erin Wilson   CEO/Co-Founder/Chairman          erinwilson@garcia.com   \n",
       "4           kavita  Executive Vice President         mr.christopher@lee.com   \n",
       "\n",
       "            Hiring_candidate_role      Lead_source Level_of_meeting  \\\n",
       "0            Community pharmacist          Website          Level 3   \n",
       "1          Recruitment consultant           Others          Level 1   \n",
       "2          Health service manager  Marketing Event          Level 1   \n",
       "3  Therapist, speech and language    Contact Email          Level 2   \n",
       "4                   Media planner          Website          Level 2   \n",
       "\n",
       "                  Last_lead_update               Internal_POC  \\\n",
       "0                         No track           Davis,Sharrice A   \n",
       "1  Did not hear back after Level 1             Brown,Maxine A   \n",
       "2                                ?  Georgakopoulos,Vasilios T   \n",
       "3  Did not hear back after Level 1             Brown,Maxine A   \n",
       "4                       Up-to-date              Thomas,Lori E   \n",
       "\n",
       "                       Resource Internal_rating  \n",
       "0                           NaN             3.0  \n",
       "1                            No             5.0  \n",
       "2                            No             4.0  \n",
       "3  We have all the requirements             1.0  \n",
       "4                            No             4.0  \n",
       "\n",
       "[5 rows x 22 columns]"
      ]
     },
     "execution_count": 53,
     "metadata": {},
     "output_type": "execute_result"
    }
   ],
   "source": [
    "df.head()"
   ]
  },
  {
   "cell_type": "code",
   "execution_count": 54,
   "metadata": {},
   "outputs": [
    {
     "data": {
      "text/plain": [
       "pooja              93\n",
       "jyoti              53\n",
       "kavita             43\n",
       "priyanka           41\n",
       "neha               41\n",
       "                   ..\n",
       "Benjamin Levine     1\n",
       "Karen Fleming       1\n",
       "Samuel Newton       1\n",
       "Fred Rosales        1\n",
       "rubby               1\n",
       "Name: POC_name, Length: 6633, dtype: int64"
      ]
     },
     "execution_count": 54,
     "metadata": {},
     "output_type": "execute_result"
    }
   ],
   "source": [
    "df.POC_name.value_counts()"
   ]
  },
  {
   "cell_type": "code",
   "execution_count": 55,
   "metadata": {},
   "outputs": [],
   "source": [
    "df.drop(['Deal_title','Lead_name','Contact_no','POC_name','Lead_POC_email'],axis=1,inplace=True)"
   ]
  },
  {
   "cell_type": "code",
   "execution_count": 56,
   "metadata": {},
   "outputs": [
    {
     "data": {
      "text/html": [
       "<div>\n",
       "<style scoped>\n",
       "    .dataframe tbody tr th:only-of-type {\n",
       "        vertical-align: middle;\n",
       "    }\n",
       "\n",
       "    .dataframe tbody tr th {\n",
       "        vertical-align: top;\n",
       "    }\n",
       "\n",
       "    .dataframe thead th {\n",
       "        text-align: right;\n",
       "    }\n",
       "</style>\n",
       "<table border=\"1\" class=\"dataframe\">\n",
       "  <thead>\n",
       "    <tr style=\"text-align: right;\">\n",
       "      <th></th>\n",
       "      <th>Industry</th>\n",
       "      <th>Deal_value</th>\n",
       "      <th>Weighted_amount</th>\n",
       "      <th>Date_of_creation</th>\n",
       "      <th>Pitch</th>\n",
       "      <th>Lead_revenue</th>\n",
       "      <th>Fund_category</th>\n",
       "      <th>Geography</th>\n",
       "      <th>Location</th>\n",
       "      <th>Designation</th>\n",
       "      <th>Hiring_candidate_role</th>\n",
       "      <th>Lead_source</th>\n",
       "      <th>Level_of_meeting</th>\n",
       "      <th>Last_lead_update</th>\n",
       "      <th>Internal_POC</th>\n",
       "      <th>Resource</th>\n",
       "      <th>Internal_rating</th>\n",
       "    </tr>\n",
       "  </thead>\n",
       "  <tbody>\n",
       "    <tr>\n",
       "      <th>0</th>\n",
       "      <td>Restaurants</td>\n",
       "      <td>320506$</td>\n",
       "      <td>2067263.7$</td>\n",
       "      <td>2020-03-29</td>\n",
       "      <td>Product_2</td>\n",
       "      <td>50 - 100 Million</td>\n",
       "      <td>Category 2</td>\n",
       "      <td>USA</td>\n",
       "      <td>Killeen-Temple, TX</td>\n",
       "      <td>Executive Vice President</td>\n",
       "      <td>Community pharmacist</td>\n",
       "      <td>Website</td>\n",
       "      <td>Level 3</td>\n",
       "      <td>No track</td>\n",
       "      <td>Davis,Sharrice A</td>\n",
       "      <td>NaN</td>\n",
       "      <td>3.0</td>\n",
       "    </tr>\n",
       "    <tr>\n",
       "      <th>1</th>\n",
       "      <td>Construction Services</td>\n",
       "      <td>39488$</td>\n",
       "      <td>240876.8$</td>\n",
       "      <td>2019-07-10</td>\n",
       "      <td>Product_2</td>\n",
       "      <td>500 Million - 1 Billion</td>\n",
       "      <td>Category 4</td>\n",
       "      <td>India</td>\n",
       "      <td>Ratlam</td>\n",
       "      <td>Chairman/CEO/President</td>\n",
       "      <td>Recruitment consultant</td>\n",
       "      <td>Others</td>\n",
       "      <td>Level 1</td>\n",
       "      <td>Did not hear back after Level 1</td>\n",
       "      <td>Brown,Maxine A</td>\n",
       "      <td>No</td>\n",
       "      <td>5.0</td>\n",
       "    </tr>\n",
       "    <tr>\n",
       "      <th>2</th>\n",
       "      <td>Hospitals/Clinics</td>\n",
       "      <td>359392$</td>\n",
       "      <td>2407926.4$</td>\n",
       "      <td>2019-07-27</td>\n",
       "      <td>Product_1</td>\n",
       "      <td>500 Million - 1 Billion</td>\n",
       "      <td>Category 4</td>\n",
       "      <td>USA</td>\n",
       "      <td>Albany-Schenectady-Troy, NY</td>\n",
       "      <td>SVP/General Counsel</td>\n",
       "      <td>Health service manager</td>\n",
       "      <td>Marketing Event</td>\n",
       "      <td>Level 1</td>\n",
       "      <td>?</td>\n",
       "      <td>Georgakopoulos,Vasilios T</td>\n",
       "      <td>No</td>\n",
       "      <td>4.0</td>\n",
       "    </tr>\n",
       "    <tr>\n",
       "      <th>3</th>\n",
       "      <td>Real Estate</td>\n",
       "      <td>76774$</td>\n",
       "      <td>468321.4$</td>\n",
       "      <td>2021-01-30</td>\n",
       "      <td>Product_2</td>\n",
       "      <td>500 Million - 1 Billion</td>\n",
       "      <td>Category 3</td>\n",
       "      <td>USA</td>\n",
       "      <td>Mount Vernon-Anacortes, WA</td>\n",
       "      <td>CEO/Co-Founder/Chairman</td>\n",
       "      <td>Therapist, speech and language</td>\n",
       "      <td>Contact Email</td>\n",
       "      <td>Level 2</td>\n",
       "      <td>Did not hear back after Level 1</td>\n",
       "      <td>Brown,Maxine A</td>\n",
       "      <td>We have all the requirements</td>\n",
       "      <td>1.0</td>\n",
       "    </tr>\n",
       "    <tr>\n",
       "      <th>4</th>\n",
       "      <td>Financial Services</td>\n",
       "      <td>483896$</td>\n",
       "      <td>NaN</td>\n",
       "      <td>2019-05-22</td>\n",
       "      <td>Product_2</td>\n",
       "      <td>50 - 100 Million</td>\n",
       "      <td>Category 3</td>\n",
       "      <td>India</td>\n",
       "      <td>Shimoga</td>\n",
       "      <td>Executive Vice President</td>\n",
       "      <td>Media planner</td>\n",
       "      <td>Website</td>\n",
       "      <td>Level 2</td>\n",
       "      <td>Up-to-date</td>\n",
       "      <td>Thomas,Lori E</td>\n",
       "      <td>No</td>\n",
       "      <td>4.0</td>\n",
       "    </tr>\n",
       "  </tbody>\n",
       "</table>\n",
       "</div>"
      ],
      "text/plain": [
       "                Industry Deal_value Weighted_amount Date_of_creation  \\\n",
       "0            Restaurants    320506$      2067263.7$       2020-03-29   \n",
       "1  Construction Services     39488$       240876.8$       2019-07-10   \n",
       "2      Hospitals/Clinics    359392$      2407926.4$       2019-07-27   \n",
       "3            Real Estate     76774$       468321.4$       2021-01-30   \n",
       "4     Financial Services    483896$             NaN       2019-05-22   \n",
       "\n",
       "       Pitch             Lead_revenue Fund_category Geography  \\\n",
       "0  Product_2         50 - 100 Million    Category 2       USA   \n",
       "1  Product_2  500 Million - 1 Billion    Category 4     India   \n",
       "2  Product_1  500 Million - 1 Billion    Category 4       USA   \n",
       "3  Product_2  500 Million - 1 Billion    Category 3       USA   \n",
       "4  Product_2         50 - 100 Million    Category 3     India   \n",
       "\n",
       "                      Location               Designation  \\\n",
       "0           Killeen-Temple, TX  Executive Vice President   \n",
       "1                       Ratlam    Chairman/CEO/President   \n",
       "2  Albany-Schenectady-Troy, NY      SVP/General Counsel    \n",
       "3   Mount Vernon-Anacortes, WA   CEO/Co-Founder/Chairman   \n",
       "4                      Shimoga  Executive Vice President   \n",
       "\n",
       "            Hiring_candidate_role      Lead_source Level_of_meeting  \\\n",
       "0            Community pharmacist          Website          Level 3   \n",
       "1          Recruitment consultant           Others          Level 1   \n",
       "2          Health service manager  Marketing Event          Level 1   \n",
       "3  Therapist, speech and language    Contact Email          Level 2   \n",
       "4                   Media planner          Website          Level 2   \n",
       "\n",
       "                  Last_lead_update               Internal_POC  \\\n",
       "0                         No track           Davis,Sharrice A   \n",
       "1  Did not hear back after Level 1             Brown,Maxine A   \n",
       "2                                ?  Georgakopoulos,Vasilios T   \n",
       "3  Did not hear back after Level 1             Brown,Maxine A   \n",
       "4                       Up-to-date              Thomas,Lori E   \n",
       "\n",
       "                       Resource  Internal_rating  \n",
       "0                           NaN              3.0  \n",
       "1                            No              5.0  \n",
       "2                            No              4.0  \n",
       "3  We have all the requirements              1.0  \n",
       "4                            No              4.0  "
      ]
     },
     "execution_count": 56,
     "metadata": {},
     "output_type": "execute_result"
    }
   ],
   "source": [
    "df.head()"
   ]
  },
  {
   "cell_type": "code",
   "execution_count": 17,
   "metadata": {},
   "outputs": [
    {
     "data": {
      "text/plain": [
       "(9100, 18)"
      ]
     },
     "execution_count": 17,
     "metadata": {},
     "output_type": "execute_result"
    }
   ],
   "source": [
    "df.shape"
   ]
  },
  {
   "cell_type": "code",
   "execution_count": 24,
   "metadata": {},
   "outputs": [
    {
     "data": {
      "text/plain": [
       "Industry                 0\n",
       "Deal_value               0\n",
       "Weighted_amount          0\n",
       "Date_of_creation         0\n",
       "Pitch                    0\n",
       "Lead_revenue             0\n",
       "Fund_category            0\n",
       "Geography                0\n",
       "Location                 0\n",
       "POC_name                 0\n",
       "Designation              0\n",
       "Hiring_candidate_role    0\n",
       "Lead_source              0\n",
       "Level_of_meeting         0\n",
       "Last_lead_update         0\n",
       "Internal_POC             0\n",
       "Resource                 0\n",
       "Internal_rating          0\n",
       "dtype: int64"
      ]
     },
     "execution_count": 24,
     "metadata": {},
     "output_type": "execute_result"
    }
   ],
   "source": [
    "df.isnull().sum()"
   ]
  },
  {
   "cell_type": "code",
   "execution_count": 19,
   "metadata": {},
   "outputs": [],
   "source": [
    "df['Industry']=df['Industry'].fillna(df['Industry'].mode()[0])\n",
    "df['Location']=df['Location'].fillna(df['Location'].mode()[0])\n",
    "df['Resource']=df['Resource'].fillna(df['Resource'].mode()[0])\n",
    "df['Last_lead_update']=df['Last_lead_update'].fillna(df['Last_lead_update'].mode()[0])\n",
    "df['Geography']=df['Geography'].fillna(df['Geography'].mode()[0])\n",
    "#df['POC_name']=df['POC_name'].fillna(df['POC_name'].mode()[0])"
   ]
  },
  {
   "cell_type": "code",
   "execution_count": 20,
   "metadata": {},
   "outputs": [],
   "source": [
    "df.Deal_value = df.Deal_value.str.replace('$', '')\n",
    "df.Weighted_amount = df.Weighted_amount.str.replace('$', '')"
   ]
  },
  {
   "cell_type": "code",
   "execution_count": 21,
   "metadata": {},
   "outputs": [],
   "source": [
    "df['Deal_value']=df.Deal_value.astype(float)\n",
    "df['Weighted_amount']=df.Weighted_amount.astype(float)"
   ]
  },
  {
   "cell_type": "code",
   "execution_count": 22,
   "metadata": {},
   "outputs": [],
   "source": [
    "df['Deal_value']=df['Deal_value'].fillna(df['Deal_value'].mean()).astype(int)\n",
    "df['Weighted_amount']=df['Weighted_amount'].fillna(df['Weighted_amount'].mean()).astype(int)"
   ]
  },
  {
   "cell_type": "code",
   "execution_count": 25,
   "metadata": {},
   "outputs": [
    {
     "data": {
      "text/html": [
       "<div>\n",
       "<style scoped>\n",
       "    .dataframe tbody tr th:only-of-type {\n",
       "        vertical-align: middle;\n",
       "    }\n",
       "\n",
       "    .dataframe tbody tr th {\n",
       "        vertical-align: top;\n",
       "    }\n",
       "\n",
       "    .dataframe thead th {\n",
       "        text-align: right;\n",
       "    }\n",
       "</style>\n",
       "<table border=\"1\" class=\"dataframe\">\n",
       "  <thead>\n",
       "    <tr style=\"text-align: right;\">\n",
       "      <th></th>\n",
       "      <th>Industry</th>\n",
       "      <th>Deal_value</th>\n",
       "      <th>Weighted_amount</th>\n",
       "      <th>Date_of_creation</th>\n",
       "      <th>Pitch</th>\n",
       "      <th>Lead_revenue</th>\n",
       "      <th>Fund_category</th>\n",
       "      <th>Geography</th>\n",
       "      <th>Location</th>\n",
       "      <th>POC_name</th>\n",
       "      <th>Designation</th>\n",
       "      <th>Hiring_candidate_role</th>\n",
       "      <th>Lead_source</th>\n",
       "      <th>Level_of_meeting</th>\n",
       "      <th>Last_lead_update</th>\n",
       "      <th>Internal_POC</th>\n",
       "      <th>Resource</th>\n",
       "      <th>Internal_rating</th>\n",
       "    </tr>\n",
       "  </thead>\n",
       "  <tbody>\n",
       "    <tr>\n",
       "      <th>0</th>\n",
       "      <td>Restaurants</td>\n",
       "      <td>320506</td>\n",
       "      <td>2067263</td>\n",
       "      <td>2020-03-29</td>\n",
       "      <td>Product_2</td>\n",
       "      <td>50 - 100 Million</td>\n",
       "      <td>Category 2</td>\n",
       "      <td>USA</td>\n",
       "      <td>Killeen-Temple, TX</td>\n",
       "      <td>Charlene Werner</td>\n",
       "      <td>Executive Vice President</td>\n",
       "      <td>Community pharmacist</td>\n",
       "      <td>Website</td>\n",
       "      <td>Level 3</td>\n",
       "      <td>No track</td>\n",
       "      <td>Davis,Sharrice A</td>\n",
       "      <td>No</td>\n",
       "      <td>3.0</td>\n",
       "    </tr>\n",
       "    <tr>\n",
       "      <th>1</th>\n",
       "      <td>Construction Services</td>\n",
       "      <td>39488</td>\n",
       "      <td>240876</td>\n",
       "      <td>2019-07-10</td>\n",
       "      <td>Product_2</td>\n",
       "      <td>500 Million - 1 Billion</td>\n",
       "      <td>Category 4</td>\n",
       "      <td>India</td>\n",
       "      <td>Ratlam</td>\n",
       "      <td>rakhi</td>\n",
       "      <td>Chairman/CEO/President</td>\n",
       "      <td>Recruitment consultant</td>\n",
       "      <td>Others</td>\n",
       "      <td>Level 1</td>\n",
       "      <td>Did not hear back after Level 1</td>\n",
       "      <td>Brown,Maxine A</td>\n",
       "      <td>No</td>\n",
       "      <td>5.0</td>\n",
       "    </tr>\n",
       "    <tr>\n",
       "      <th>2</th>\n",
       "      <td>Hospitals/Clinics</td>\n",
       "      <td>359392</td>\n",
       "      <td>2407926</td>\n",
       "      <td>2019-07-27</td>\n",
       "      <td>Product_1</td>\n",
       "      <td>500 Million - 1 Billion</td>\n",
       "      <td>Category 4</td>\n",
       "      <td>USA</td>\n",
       "      <td>Albany-Schenectady-Troy, NY</td>\n",
       "      <td>Ariel Hamilton</td>\n",
       "      <td>SVP/General Counsel</td>\n",
       "      <td>Health service manager</td>\n",
       "      <td>Marketing Event</td>\n",
       "      <td>Level 1</td>\n",
       "      <td>?</td>\n",
       "      <td>Georgakopoulos,Vasilios T</td>\n",
       "      <td>No</td>\n",
       "      <td>4.0</td>\n",
       "    </tr>\n",
       "    <tr>\n",
       "      <th>3</th>\n",
       "      <td>Real Estate</td>\n",
       "      <td>76774</td>\n",
       "      <td>468321</td>\n",
       "      <td>2021-01-30</td>\n",
       "      <td>Product_2</td>\n",
       "      <td>500 Million - 1 Billion</td>\n",
       "      <td>Category 3</td>\n",
       "      <td>USA</td>\n",
       "      <td>Mount Vernon-Anacortes, WA</td>\n",
       "      <td>Erin Wilson</td>\n",
       "      <td>CEO/Co-Founder/Chairman</td>\n",
       "      <td>Therapist, speech and language</td>\n",
       "      <td>Contact Email</td>\n",
       "      <td>Level 2</td>\n",
       "      <td>Did not hear back after Level 1</td>\n",
       "      <td>Brown,Maxine A</td>\n",
       "      <td>We have all the requirements</td>\n",
       "      <td>1.0</td>\n",
       "    </tr>\n",
       "    <tr>\n",
       "      <th>4</th>\n",
       "      <td>Financial Services</td>\n",
       "      <td>483896</td>\n",
       "      <td>1566787</td>\n",
       "      <td>2019-05-22</td>\n",
       "      <td>Product_2</td>\n",
       "      <td>50 - 100 Million</td>\n",
       "      <td>Category 3</td>\n",
       "      <td>India</td>\n",
       "      <td>Shimoga</td>\n",
       "      <td>kavita</td>\n",
       "      <td>Executive Vice President</td>\n",
       "      <td>Media planner</td>\n",
       "      <td>Website</td>\n",
       "      <td>Level 2</td>\n",
       "      <td>Up-to-date</td>\n",
       "      <td>Thomas,Lori E</td>\n",
       "      <td>No</td>\n",
       "      <td>4.0</td>\n",
       "    </tr>\n",
       "  </tbody>\n",
       "</table>\n",
       "</div>"
      ],
      "text/plain": [
       "                Industry  Deal_value  Weighted_amount Date_of_creation  \\\n",
       "0            Restaurants      320506          2067263       2020-03-29   \n",
       "1  Construction Services       39488           240876       2019-07-10   \n",
       "2      Hospitals/Clinics      359392          2407926       2019-07-27   \n",
       "3            Real Estate       76774           468321       2021-01-30   \n",
       "4     Financial Services      483896          1566787       2019-05-22   \n",
       "\n",
       "       Pitch             Lead_revenue Fund_category Geography  \\\n",
       "0  Product_2         50 - 100 Million    Category 2       USA   \n",
       "1  Product_2  500 Million - 1 Billion    Category 4     India   \n",
       "2  Product_1  500 Million - 1 Billion    Category 4       USA   \n",
       "3  Product_2  500 Million - 1 Billion    Category 3       USA   \n",
       "4  Product_2         50 - 100 Million    Category 3     India   \n",
       "\n",
       "                      Location         POC_name               Designation  \\\n",
       "0           Killeen-Temple, TX  Charlene Werner  Executive Vice President   \n",
       "1                       Ratlam            rakhi    Chairman/CEO/President   \n",
       "2  Albany-Schenectady-Troy, NY   Ariel Hamilton      SVP/General Counsel    \n",
       "3   Mount Vernon-Anacortes, WA      Erin Wilson   CEO/Co-Founder/Chairman   \n",
       "4                      Shimoga           kavita  Executive Vice President   \n",
       "\n",
       "            Hiring_candidate_role      Lead_source Level_of_meeting  \\\n",
       "0            Community pharmacist          Website          Level 3   \n",
       "1          Recruitment consultant           Others          Level 1   \n",
       "2          Health service manager  Marketing Event          Level 1   \n",
       "3  Therapist, speech and language    Contact Email          Level 2   \n",
       "4                   Media planner          Website          Level 2   \n",
       "\n",
       "                  Last_lead_update               Internal_POC  \\\n",
       "0                         No track           Davis,Sharrice A   \n",
       "1  Did not hear back after Level 1             Brown,Maxine A   \n",
       "2                                ?  Georgakopoulos,Vasilios T   \n",
       "3  Did not hear back after Level 1             Brown,Maxine A   \n",
       "4                       Up-to-date              Thomas,Lori E   \n",
       "\n",
       "                       Resource  Internal_rating  \n",
       "0                            No              3.0  \n",
       "1                            No              5.0  \n",
       "2                            No              4.0  \n",
       "3  We have all the requirements              1.0  \n",
       "4                            No              4.0  "
      ]
     },
     "execution_count": 25,
     "metadata": {},
     "output_type": "execute_result"
    }
   ],
   "source": [
    "df.head()"
   ]
  },
  {
   "cell_type": "code",
   "execution_count": 26,
   "metadata": {},
   "outputs": [],
   "source": [
    "from sklearn.preprocessing import LabelEncoder\n",
    "enc=LabelEncoder()\n",
    "df['Industry']=enc.fit_transform(df['Industry'])\n",
    "df['Pitch']=enc.fit_transform(df['Pitch'])\n",
    "df['Fund_category']=enc.fit_transform(df['Fund_category'])\n",
    "df['Geography']=enc.fit_transform(df['Geography'])\n",
    "df['Location']=enc.fit_transform(df['Location'])\n",
    "df['Designation']=enc.fit_transform(df['Designation'])\n",
    "df['Lead_revenue']=enc.fit_transform(df['Lead_revenue'])\n",
    "df['Hiring_candidate_role']=enc.fit_transform(df['Hiring_candidate_role'])\n",
    "df['Lead_source']=enc.fit_transform(df['Lead_source'])\n",
    "df['Level_of_meeting']=enc.fit_transform(df['Level_of_meeting'])\n",
    "df['Last_lead_update']=enc.fit_transform(df['Last_lead_update'])\n",
    "df['Internal_POC']=enc.fit_transform(df['Internal_POC'])\n",
    "df['Resource']=enc.fit_transform(df['Resource'])\n",
    "#df['POC_name']=enc.fit_transform(df['POC_name'])"
   ]
  },
  {
   "cell_type": "code",
   "execution_count": 27,
   "metadata": {},
   "outputs": [],
   "source": [
    "import datetime as dt\n",
    "new = df['Date_of_creation'].str.split(\"-\", n = 2, expand = True) \n",
    "df['Day'] = new[0]\n",
    "df['Month'] = new[1]\n",
    "df['Year'] = new[2]\n",
    "del new"
   ]
  },
  {
   "cell_type": "code",
   "execution_count": 28,
   "metadata": {},
   "outputs": [],
   "source": [
    "df['Day']=enc.fit_transform(df['Day'])\n",
    "df['Month']=enc.fit_transform(df['Month'])\n",
    "df['Year']=enc.fit_transform(df['Year'])"
   ]
  },
  {
   "cell_type": "code",
   "execution_count": 29,
   "metadata": {},
   "outputs": [],
   "source": [
    "df.drop('Date_of_creation',axis=1,inplace=True)\n",
    "#df.drop(['Day','Month','Year'],axis=1,inplace=true)"
   ]
  },
  {
   "cell_type": "code",
   "execution_count": 30,
   "metadata": {},
   "outputs": [
    {
     "data": {
      "text/plain": [
       "((7007, 22), (2093, 22), (9100, 20))"
      ]
     },
     "execution_count": 30,
     "metadata": {},
     "output_type": "execute_result"
    }
   ],
   "source": [
    "train.shape,test.shape,df.shape"
   ]
  },
  {
   "cell_type": "code",
   "execution_count": 31,
   "metadata": {},
   "outputs": [],
   "source": [
    "df_train=df.iloc[:7007,:]\n",
    "df_test=df.iloc[7007:,:]"
   ]
  },
  {
   "cell_type": "code",
   "execution_count": 32,
   "metadata": {},
   "outputs": [],
   "source": [
    "from sklearn.model_selection import train_test_split\n",
    "x_train,x_cv,y_train,y_cv=train_test_split(df_train,y,test_size=0.33,random_state=1)"
   ]
  },
  {
   "cell_type": "code",
   "execution_count": 33,
   "metadata": {},
   "outputs": [],
   "source": [
    "#from sklearn.linear_model import LinearRegression\n",
    "from sklearn.metrics import mean_squared_error\n",
    "from math import sqrt\n",
    "#def rmsle(y_true, y_pred):\n",
    "   # return max(0,100-np.sqrt(mean_squared_error(y_true, y_pred)))"
   ]
  },
  {
   "cell_type": "code",
   "execution_count": 34,
   "metadata": {},
   "outputs": [],
   "source": [
    "from sklearn.preprocessing import StandardScaler\n",
    "sc=StandardScaler()\n",
    "x_train=sc.fit_transform(x_train)\n",
    "x_cv=sc.transform(x_cv)"
   ]
  },
  {
   "cell_type": "code",
   "execution_count": 40,
   "metadata": {},
   "outputs": [],
   "source": [
    "df_test=sc.transform(df_test)"
   ]
  },
  {
   "cell_type": "code",
   "execution_count": 38,
   "metadata": {},
   "outputs": [
    {
     "data": {
      "text/plain": [
       "((4694, 19), (4694,), (2093, 19))"
      ]
     },
     "execution_count": 38,
     "metadata": {},
     "output_type": "execute_result"
    }
   ],
   "source": [
    "x_train.shape, y_train.shape , df_test.shape"
   ]
  },
  {
   "cell_type": "code",
   "execution_count": 359,
   "metadata": {},
   "outputs": [
    {
     "name": "stdout",
     "output_type": "stream",
     "text": [
      "12.341788970024114\n"
     ]
    }
   ],
   "source": [
    "lr=LinearRegression()\n",
    "lr.fit(x_train,y_train)\n",
    "lr_pred=lr.predict(x_cv)\n",
    "print(sqrt(mean_squared_error(y_cv,lr_pred)))"
   ]
  },
  {
   "cell_type": "code",
   "execution_count": 360,
   "metadata": {},
   "outputs": [],
   "source": [
    "lr_test_pred=lr.predict(df_test)"
   ]
  },
  {
   "cell_type": "code",
   "execution_count": 35,
   "metadata": {},
   "outputs": [
    {
     "name": "stdout",
     "output_type": "stream",
     "text": [
      "17.726074950735732\n"
     ]
    }
   ],
   "source": [
    "from sklearn.ensemble import RandomForestRegressor\n",
    "rf=RandomForestRegressor()\n",
    "rf.fit(x_train,y_train)\n",
    "rf_pred=rf.predict(x_cv)\n",
    "print(sqrt(mean_squared_error(y_cv,rf_pred)))"
   ]
  },
  {
   "cell_type": "code",
   "execution_count": 36,
   "metadata": {},
   "outputs": [],
   "source": [
    "rf_test_pred=rf.predict(df_test)"
   ]
  },
  {
   "cell_type": "code",
   "execution_count": 44,
   "metadata": {},
   "outputs": [
    {
     "name": "stdout",
     "output_type": "stream",
     "text": [
      "16.206277666269433\n"
     ]
    }
   ],
   "source": [
    "import lightgbm\n",
    "from lightgbm import LGBMRegressor\n",
    "lgb=LGBMRegressor()\n",
    "lgb.fit(x_train,y_train)\n",
    "lgb_pred=lgb.predict(x_cv)\n",
    "print(sqrt(mean_squared_error(y_cv,lgb_pred)))"
   ]
  },
  {
   "cell_type": "code",
   "execution_count": 45,
   "metadata": {},
   "outputs": [],
   "source": [
    "lgb_test_pred=lgb.predict(df_test)"
   ]
  },
  {
   "cell_type": "code",
   "execution_count": 37,
   "metadata": {},
   "outputs": [],
   "source": [
    "Submission = pd.DataFrame()\n",
    "Submission['Deal_title'] = t\n",
    "Submission['Success_probability'] = rf_test_pred"
   ]
  },
  {
   "cell_type": "code",
   "execution_count": 38,
   "metadata": {},
   "outputs": [
    {
     "data": {
      "text/html": [
       "<div>\n",
       "<style scoped>\n",
       "    .dataframe tbody tr th:only-of-type {\n",
       "        vertical-align: middle;\n",
       "    }\n",
       "\n",
       "    .dataframe tbody tr th {\n",
       "        vertical-align: top;\n",
       "    }\n",
       "\n",
       "    .dataframe thead th {\n",
       "        text-align: right;\n",
       "    }\n",
       "</style>\n",
       "<table border=\"1\" class=\"dataframe\">\n",
       "  <thead>\n",
       "    <tr style=\"text-align: right;\">\n",
       "      <th></th>\n",
       "      <th>Deal_title</th>\n",
       "      <th>Success_probability</th>\n",
       "    </tr>\n",
       "  </thead>\n",
       "  <tbody>\n",
       "    <tr>\n",
       "      <th>0</th>\n",
       "      <td>TitleAD16O</td>\n",
       "      <td>58.4769</td>\n",
       "    </tr>\n",
       "    <tr>\n",
       "      <th>1</th>\n",
       "      <td>TitleOW6CR</td>\n",
       "      <td>62.2897</td>\n",
       "    </tr>\n",
       "    <tr>\n",
       "      <th>2</th>\n",
       "      <td>TitleVVJQ5</td>\n",
       "      <td>62.0041</td>\n",
       "    </tr>\n",
       "    <tr>\n",
       "      <th>3</th>\n",
       "      <td>TitleUS8NA</td>\n",
       "      <td>61.0546</td>\n",
       "    </tr>\n",
       "    <tr>\n",
       "      <th>4</th>\n",
       "      <td>Title5VGWW</td>\n",
       "      <td>59.5810</td>\n",
       "    </tr>\n",
       "  </tbody>\n",
       "</table>\n",
       "</div>"
      ],
      "text/plain": [
       "   Deal_title  Success_probability\n",
       "0  TitleAD16O              58.4769\n",
       "1  TitleOW6CR              62.2897\n",
       "2  TitleVVJQ5              62.0041\n",
       "3  TitleUS8NA              61.0546\n",
       "4  Title5VGWW              59.5810"
      ]
     },
     "execution_count": 38,
     "metadata": {},
     "output_type": "execute_result"
    }
   ],
   "source": [
    "Submission.head()"
   ]
  },
  {
   "cell_type": "code",
   "execution_count": 39,
   "metadata": {},
   "outputs": [],
   "source": [
    "Submission.to_csv('rf.csv',index=False)"
   ]
  },
  {
   "cell_type": "code",
   "execution_count": null,
   "metadata": {},
   "outputs": [],
   "source": []
  }
 ],
 "metadata": {
  "kernelspec": {
   "display_name": "Python 3",
   "language": "python",
   "name": "python3"
  },
  "language_info": {
   "codemirror_mode": {
    "name": "ipython",
    "version": 3
   },
   "file_extension": ".py",
   "mimetype": "text/x-python",
   "name": "python",
   "nbconvert_exporter": "python",
   "pygments_lexer": "ipython3",
   "version": "3.7.7"
  }
 },
 "nbformat": 4,
 "nbformat_minor": 4
}
